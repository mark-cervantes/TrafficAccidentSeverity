{
 "cells": [
  {
   "cell_type": "markdown",
   "id": "e5b8dbca",
   "metadata": {},
   "source": [
    "# 00. Data Ingestion and Initial Exploration\n",
    "\n",
    "**Objective:** Load the dataset and perform an initial inspection to understand its structure, identify immediate data quality issues, and gather basic statistics.\n",
    "\n",
    "**PRD References:** \n",
    "- 3.1.1 Data Ingestion\n",
    "- 4.1 Data Source\n",
    "- FR1: Data Loading and Preprocessing"
   ]
  },
  {
   "cell_type": "markdown",
   "id": "0785bace",
   "metadata": {},
   "source": [
    "## 1. Setup and Library Imports"
   ]
  },
  {
   "cell_type": "code",
   "execution_count": null,
   "id": "df072e9d",
   "metadata": {},
   "outputs": [],
   "source": [
    "import pandas as pd\n",
    "import numpy as np\n",
    "\n",
    "# Display options for Pandas\n",
    "pd.set_option('display.max_columns', None)\n",
    "pd.set_option('display.max_rows', 100)\n",
    "pd.set_option('display.width', 1000)"
   ]
  },
  {
   "cell_type": "markdown",
   "id": "cbfae7d8",
   "metadata": {},
   "source": [
    "## 2. Data Loading\n",
    "\n",
    "Load the CSV dataset into a Pandas DataFrame."
   ]
  },
  {
   "cell_type": "code",
   "execution_count": null,
   "id": "d106a11a",
   "metadata": {},
   "outputs": [],
   "source": [
    "DATA_PATH = '../data/raw/RTA_EDSA_2007-2016.csv'\n",
    "\n",
    "try:\n",
    "    df = pd.read_csv(DATA_PATH)\n",
    "    print(\"Dataset loaded successfully!\")\n",
    "except FileNotFoundError:\n",
    "    print(f\"Error: The file was not found at {DATA_PATH}\")\n",
    "except Exception as e:\n",
    "    print(f\"An error occurred: {e}\")"
   ]
  },
  {
   "cell_type": "markdown",
   "id": "d35d973b",
   "metadata": {},
   "source": [
    "## 3. Initial Data Inspection\n",
    "\n",
    "Perform basic checks to understand the dataset's structure and content."
   ]
  },
  {
   "cell_type": "markdown",
   "id": "260e4363",
   "metadata": {},
   "source": [
    "### 3.1. DataFrame Shape"
   ]
  },
  {
   "cell_type": "code",
   "execution_count": null,
   "id": "c7509048",
   "metadata": {},
   "outputs": [],
   "source": [
    "if 'df' in locals():\n",
    "    print(f\"The dataset has {df.shape[0]} rows and {df.shape[1]} columns.\")"
   ]
  },
  {
   "cell_type": "markdown",
   "id": "2dc68d7c",
   "metadata": {},
   "source": [
    "### 3.2. First Few Rows (Head)"
   ]
  },
  {
   "cell_type": "code",
   "execution_count": null,
   "id": "b7185d8b",
   "metadata": {},
   "outputs": [],
   "source": [
    "if 'df' in locals():\n",
    "    display(df.head())"
   ]
  },
  {
   "cell_type": "markdown",
   "id": "893ac31d",
   "metadata": {},
   "source": [
    "### 3.3. Last Few Rows (Tail)"
   ]
  },
  {
   "cell_type": "code",
   "execution_count": null,
   "id": "e3805661",
   "metadata": {},
   "outputs": [],
   "source": [
    "if 'df' in locals():\n",
    "    display(df.tail())"
   ]
  },
  {
   "cell_type": "markdown",
   "id": "da57da0c",
   "metadata": {},
   "source": [
    "### 3.4. Data Types and Non-Null Counts (Info)"
   ]
  },
  {
   "cell_type": "code",
   "execution_count": null,
   "id": "2699df9b",
   "metadata": {},
   "outputs": [],
   "source": [
    "if 'df' in locals():\n",
    "    df.info()"
   ]
  },
  {
   "cell_type": "markdown",
   "id": "d1df1192",
   "metadata": {},
   "source": [
    "### 3.5. Descriptive Statistics (Describe)"
   ]
  },
  {
   "cell_type": "code",
   "execution_count": null,
   "id": "b8c7d58f",
   "metadata": {},
   "outputs": [],
   "source": [
    "if 'df' in locals():\n",
    "    display(df.describe(include='all'))"
   ]
  },
  {
   "cell_type": "markdown",
   "id": "986d2fbc",
   "metadata": {},
   "source": [
    "### 3.6. Check for Duplicated Rows"
   ]
  },
  {
   "cell_type": "code",
   "execution_count": null,
   "id": "737e82a2",
   "metadata": {},
   "outputs": [],
   "source": [
    "if 'df' in locals():\n",
    "    num_duplicates = df.duplicated().sum()\n",
    "    print(f\"Number of duplicated rows: {num_duplicates}\")"
   ]
  },
  {
   "cell_type": "markdown",
   "id": "971ee841",
   "metadata": {},
   "source": [
    "## 4. Initial Observations\n",
    "\n",
    "Based on the initial inspection, document key observations here:\n",
    "\n",
    "1.  **Dataset Dimensions:** (Number of rows, Number of columns)\n",
    "2.  **Data Types:** (List any immediate concerns or necessary conversions, e.g., dates as objects)\n",
    "3.  **Missing Values:** (Note columns with a significant number of missing values based on `df.info()`)\n",
    "4.  **Categorical Features:** (Identify potential categorical columns from `df.describe(include='all')` and `df.info()`)\n",
    "5.  **Numerical Features:** (Identify potential numerical columns and their basic statistics like mean, min, max)\n",
    "6.  **Duplicates:** (Presence and number of duplicate rows)\n",
    "7.  **Potential Target-Related Columns:** (Identify columns like `SEVERITY`, `killed_total`, `injured_total` that will be crucial for target variable definition)\n",
    "8.  **Date/Time Columns:** (Identify `DATE_UTC`, `TIME_UTC`, `DATETIME_PST` and note their current format)\n",
    "9.  **Text/ID Columns:** (Identify columns like `LOCATION_TEXT`, `DESC`, `INCIDENTDETAILS_ID`, `ADDRESS` and consider their potential utility or need for exclusion/processing)\n",
    "10. **Initial Data Quality Concerns:** (Any other immediate red flags, e.g., inconsistent values if visible in `head()`/`tail()` or unique counts from `describe()`)"
   ]
  }
 ],
 "metadata": {
  "kernelspec": {
   "display_name": "traffic-severity",
   "language": "python",
   "name": "trafficseverity"
  },
  "language_info": {
   "name": "python",
   "version": "3.12.9"
  }
 },
 "nbformat": 4,
 "nbformat_minor": 5
}
