{
 "cells": [
  {
   "cell_type": "markdown",
   "id": "a9525158",
   "metadata": {},
   "source": [
    "# 04. Modeling Pipeline Setup: Train-Test Split & Scaling\n",
    "\n",
    "**Objective:** Load preprocessed data, perform a stratified train-test split with a fixed random seed, apply numerical scaling, and initialize the performance logging infrastructure.\n",
    "\n",
    "**PRD References:** 3.1.5, 3.1.7, 9.3, 10.5; **NFR2**"
   ]
  },
  {
   "cell_type": "markdown",
   "id": "dafbc97a",
   "metadata": {},
   "source": [
    "## 1. Imports and Utility Functions"
   ]
  },
  {
   "cell_type": "code",
   "execution_count": 4,
   "id": "116dc49b",
   "metadata": {},
   "outputs": [
    {
     "name": "stdout",
     "output_type": "stream",
     "text": [
      "--- sys.path contents ---\n",
      "0: /home/cmark/.pyenv/versions/3.12.9/lib/python312.zip\n",
      "1: /home/cmark/.pyenv/versions/3.12.9/lib/python3.12\n",
      "2: /home/cmark/.pyenv/versions/3.12.9/lib/python3.12/lib-dynload\n",
      "3: \n",
      "4: /home/cmark/Projects/TrafficAccidentSeverity/.venv/lib/python3.12/site-packages\n",
      "5: /home/cmark/Projects/TrafficAccidentSeverity/src\n",
      "\n",
      "--- Project Structure Check ---\n",
      "Calculated Project Root: /home/cmark/Projects/TrafficAccidentSeverity\n",
      "Checking for src at: /home/cmark/Projects/TrafficAccidentSeverity/src\n",
      "Does src directory exist? True\n",
      "Does modeling_utils.py exist? True\n",
      "Does __init__.py exist in src? False\n",
      "\n",
      "--- End of sys.path and Structure Check ---\n"
     ]
    }
   ],
   "source": [
    "import sys\n",
    "import os\n",
    "\n",
    "print(\"--- sys.path contents ---\")\n",
    "for i, path in enumerate(sys.path):\n",
    "    print(f\"{i}: {path}\")\n",
    "\n",
    "# Optional: Check if the src directory exists relative to the project root\n",
    "project_root = os.path.abspath(os.path.join(os.path.dirname(''), os.pardir))\n",
    "src_path_check = os.path.join(project_root, 'src')\n",
    "print(\"\\n--- Project Structure Check ---\")\n",
    "print(f\"Calculated Project Root: {project_root}\")\n",
    "print(f\"Checking for src at: {src_path_check}\")\n",
    "print(f\"Does src directory exist? {os.path.isdir(src_path_check)}\")\n",
    "print(f\"Does modeling_utils.py exist? {os.path.exists(os.path.join(src_path_check, 'modeling_utils.py'))}\")\n",
    "print(f\"Does __init__.py exist in src? {os.path.exists(os.path.join(src_path_check, '__init__.py'))}\")\n",
    "\n",
    "print(\"\\n--- End of sys.path and Structure Check ---\")\n",
    "\n",
    "# Now try the import in the *next* cell\n",
    "# from src.modeling_utils import ...\n"
   ]
  },
  {
   "cell_type": "code",
   "execution_count": null,
   "id": "8d74f253",
   "metadata": {},
   "outputs": [
    {
     "ename": "ModuleNotFoundError",
     "evalue": "No module named 'src'",
     "output_type": "error",
     "traceback": [
      "\u001b[31m---------------------------------------------------------------------------\u001b[39m",
      "\u001b[31mModuleNotFoundError\u001b[39m                       Traceback (most recent call last)",
      "\u001b[36mCell\u001b[39m\u001b[36m \u001b[39m\u001b[32mIn[3]\u001b[39m\u001b[32m, line 4\u001b[39m\n\u001b[32m      2\u001b[39m \u001b[38;5;28;01mfrom\u001b[39;00m\u001b[38;5;250m \u001b[39m\u001b[34;01msklearn\u001b[39;00m\u001b[34;01m.\u001b[39;00m\u001b[34;01mmodel_selection\u001b[39;00m\u001b[38;5;250m \u001b[39m\u001b[38;5;28;01mimport\u001b[39;00m train_test_split\n\u001b[32m      3\u001b[39m \u001b[38;5;28;01mfrom\u001b[39;00m\u001b[38;5;250m \u001b[39m\u001b[34;01msklearn\u001b[39;00m\u001b[34;01m.\u001b[39;00m\u001b[34;01mpreprocessing\u001b[39;00m\u001b[38;5;250m \u001b[39m\u001b[38;5;28;01mimport\u001b[39;00m StandardScaler\n\u001b[32m----> \u001b[39m\u001b[32m4\u001b[39m \u001b[38;5;28;01mfrom\u001b[39;00m\u001b[38;5;250m \u001b[39m\u001b[34;01msrc\u001b[39;00m\u001b[34;01m.\u001b[39;00m\u001b[34;01mmodeling_utils\u001b[39;00m\u001b[38;5;250m \u001b[39m\u001b[38;5;28;01mimport\u001b[39;00m (\n\u001b[32m      5\u001b[39m     compute_classification_metrics,\n\u001b[32m      6\u001b[39m     init_performance_excel,\n\u001b[32m      7\u001b[39m     append_performance_record\n\u001b[32m      8\u001b[39m )\n",
      "\u001b[31mModuleNotFoundError\u001b[39m: No module named 'src'"
     ]
    }
   ],
   "source": [
    "import pandas as pd\n",
    "from sklearn.model_selection import train_test_split\n",
    "from sklearn.preprocessing import StandardScaler\n",
    "from modeling_utils import (\n",
    "    compute_classification_metrics,\n",
    "    init_performance_excel,\n",
    "    append_performance_record\n",
    ")"
   ]
  },
  {
   "cell_type": "markdown",
   "id": "6722ff05",
   "metadata": {},
   "source": [
    "## 2. Load Preprocessed Data"
   ]
  },
  {
   "cell_type": "code",
   "execution_count": null,
   "id": "0f931a6a",
   "metadata": {},
   "outputs": [],
   "source": [
    "# Load the fully preprocessed dataset\n",
    "data_path = '../data/processed/preprocessed_data.csv'\n",
    "df = pd.read_csv(data_path)\n",
    "print(f\"Loaded preprocessed data: {df.shape[0]} rows, {df.shape[1]} columns\")"
   ]
  },
  {
   "cell_type": "markdown",
   "id": "7eec0215",
   "metadata": {},
   "source": [
    "## 3. Define Features and Target"
   ]
  },
  {
   "cell_type": "code",
   "execution_count": null,
   "id": "f1a83078",
   "metadata": {},
   "outputs": [],
   "source": [
    "# Separate features and target\n",
    "target_col = 'is_severe_accident'\n",
    "feature_cols = [c for c in df.columns if c != target_col]\n",
    "X = df[feature_cols]\n",
    "y = df[target_col]"
   ]
  },
  {
   "cell_type": "markdown",
   "id": "1812ab40",
   "metadata": {},
   "source": [
    "## 4. Stratified Train-Test Split"
   ]
  },
  {
   "cell_type": "code",
   "execution_count": null,
   "id": "b825ede9",
   "metadata": {},
   "outputs": [],
   "source": [
    "# Perform stratified split to preserve class distribution\n",
    "X_train, X_test, y_train, y_test = train_test_split(\n",
    "    X, y,\n",
    "    test_size=0.2,\n",
    "    stratify=y,\n",
    "    random_state=42\n",
    ")\n",
    "print(f\"Train set: {X_train.shape[0]} rows\")\n",
    "print(f\"Test set:  {X_test.shape[0]} rows\")"
   ]
  },
  {
   "cell_type": "markdown",
   "id": "a0f7cb53",
   "metadata": {},
   "source": [
    "## 5. Numerical Feature Scaling"
   ]
  },
  {
   "cell_type": "code",
   "execution_count": null,
   "id": "f6ae5b81",
   "metadata": {},
   "outputs": [],
   "source": [
    "# Identify numerical features for scaling\n",
    "num_features = X_train.select_dtypes(include=['int64', 'float64']).columns.tolist()\n",
    "\n",
    "# Initialize scaler and fit on training data\n",
    "scaler = StandardScaler()\n",
    "X_train_scaled = X_train.copy()\n",
    "X_test_scaled = X_test.copy()\n",
    "X_train_scaled[num_features] = scaler.fit_transform(X_train[num_features])\n",
    "X_test_scaled[num_features] = scaler.transform(X_test[num_features])\n",
    "\n",
    "print(\"Scaled numerical features on training and test sets.\")"
   ]
  },
  {
   "cell_type": "markdown",
   "id": "f9903ab0",
   "metadata": {},
   "source": [
    "## 6. Initialize Performance Logging"
   ]
  },
  {
   "cell_type": "code",
   "execution_count": null,
   "id": "bab04d64",
   "metadata": {},
   "outputs": [],
   "source": [
    "# Create Excel for logging model performance\n",
    "performance_file = '../reports/model_performance_summary.xlsx'\n",
    "init_performance_excel(performance_file)\n",
    "print(f\"Initialized performance log at {performance_file}\")"
   ]
  },
  {
   "cell_type": "markdown",
   "id": "de777506",
   "metadata": {},
   "source": [
    "**Next Steps:**\n",
    "- Implement class imbalance handling on X_train_scaled, y_train (Commit 13).\n",
    "- Build model training and hyperparameter tuning workflows in subsequent notebooks."
   ]
  }
 ],
 "metadata": {
  "kernelspec": {
   "display_name": "traffic-severity",
   "language": "python",
   "name": "trafficseverity"
  },
  "language_info": {
   "codemirror_mode": {
    "name": "ipython",
    "version": 3
   },
   "file_extension": ".py",
   "mimetype": "text/x-python",
   "name": "python",
   "nbconvert_exporter": "python",
   "pygments_lexer": "ipython3",
   "version": "3.12.9"
  }
 },
 "nbformat": 4,
 "nbformat_minor": 5
}
