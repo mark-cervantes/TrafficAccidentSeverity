{
 "cells": [
  {
   "cell_type": "markdown",
   "id": "b1ca2a9f",
   "metadata": {},
   "source": [
    "# Commit 1: Initial Data Loading and Preliminary Inspection"
   ]
  },
  {
   "cell_type": "markdown",
   "id": "63599c9c",
   "metadata": {},
   "source": [
    "This notebook covers the tasks for Commit 1:\n",
    "1. Load the dataset.\n",
    "2. Perform basic data inspection:\n",
    "    * Display column names and data types.\n",
    "    * Check for missing values in `SEVERITY`, `killed_total`, and `injured_total`.\n",
    "    * Get a first look at unique values for `SEVERITY`.\n",
    "    * Get basic descriptive statistics for `killed_total` and `injured_total`."
   ]
  },
  {
   "cell_type": "code",
   "execution_count": 1,
   "id": "8cb22e41",
   "metadata": {},
   "outputs": [],
   "source": [
    "import pandas as pd\n",
    "import numpy as np"
   ]
  },
  {
   "cell_type": "markdown",
   "id": "119a5fd3",
   "metadata": {},
   "source": [
    "## 1. Load Dataset"
   ]
  },
  {
   "cell_type": "code",
   "execution_count": 4,
   "id": "ed3f7890",
   "metadata": {},
   "outputs": [
    {
     "name": "stdout",
     "output_type": "stream",
     "text": [
      "                                           LOCATION_TEXT  ROAD      WEATHER  \\\n",
      "0                                                    NaN  EDSA          NaN   \n",
      "1                                                    NaN  EDSA          NaN   \n",
      "2                                                    NaN  EDSA          NaN   \n",
      "3                                                    NaN  EDSA          NaN   \n",
      "4                                                    NaN  EDSA          NaN   \n",
      "...                                                  ...   ...          ...   \n",
      "22067  DILG-NAPOLCOM Center, EDSA, South Triangle, Qu...  EDSA    clear-day   \n",
      "22068  EDSA Quezon Avenue Flyover Northbound, South T...  EDSA  clear-night   \n",
      "22069  DILG-NAPOLCOM Center, EDSA, South Triangle, Qu...  EDSA         rain   \n",
      "22070  DILG-NAPOLCOM Center, EDSA, South Triangle, Qu...  EDSA    clear-day   \n",
      "22071  DILG-NAPOLCOM Center, EDSA, South Triangle, Qu...  EDSA         rain   \n",
      "\n",
      "       LIGHT                                               DESC  \\\n",
      "0        NaN  No Accident Factor, No Collision Stated (based...   \n",
      "1        NaN  No Accident Factor, No Collision Stated (based...   \n",
      "2        NaN  No Accident Factor, No Collision Stated (based...   \n",
      "3        NaN  No Accident Factor, No Collision Stated (based...   \n",
      "4        NaN  No Accident Factor, No Collision Stated (based...   \n",
      "...      ...                                                ...   \n",
      "22067    day                                 BUMPED FROM BEHIND   \n",
      "22068  night                                 Bumped from Behind   \n",
      "22069    day                                 BUMPED FROM BEHIND   \n",
      "22070    day                               (+)MC DRIVER INJURED   \n",
      "22071    day                               (+)MC DRIVER INJURED   \n",
      "\n",
      "            REPORTING_AGENCY   MAIN_CAUSE  \\\n",
      "0      MMDA Road Safety Unit  Human error   \n",
      "1      MMDA Road Safety Unit  Human error   \n",
      "2      MMDA Road Safety Unit  Human error   \n",
      "3      MMDA Road Safety Unit  Human error   \n",
      "4      MMDA Road Safety Unit  Human error   \n",
      "...                      ...          ...   \n",
      "22067         MMDA Metrobase          NaN   \n",
      "22068         MMDA Metrobase          NaN   \n",
      "22069                  Other          NaN   \n",
      "22070         MMDA Metrobase          NaN   \n",
      "22071                  Other          NaN   \n",
      "\n",
      "                         INCIDENTDETAILS_ID    DATE_UTC  TIME_UTC  ...  \\\n",
      "0      2414f311-e805-40c6-b8b9-116b51c35be7  2014-06-30  05:40:00  ...   \n",
      "1      c359744e-e0e7-4541-8db8-5f334c2b4fd7  2014-03-17  01:00:00  ...   \n",
      "2      84e0c352-c029-4393-9252-7516c77f471f  2013-11-26  02:00:00  ...   \n",
      "3      33462d75-3bf8-483f-8cf2-63adab3a6924  2013-10-26  13:00:00  ...   \n",
      "4      2d2ef179-9c5c-4d5b-90de-8f12871a005c  2013-06-26  23:30:00  ...   \n",
      "...                                     ...         ...       ...  ...   \n",
      "22067  30502357-1f20-40a3-ab37-229908775f43  2016-10-29  00:47:30  ...   \n",
      "22068  845dd06b-3537-41cc-9b5c-f4d1d98c89c8  2016-10-22  11:50:47  ...   \n",
      "22069  9a9ef68e-a7a6-4949-a848-c0f8557157b8  2016-10-21  02:00:00  ...   \n",
      "22070  e89aef3c-d577-435d-b144-28abb6ed6d04  2016-10-24  23:17:32  ...   \n",
      "22071  c8212532-4db1-4a71-81ce-d9d22fed1765  2016-10-20  22:38:24  ...   \n",
      "\n",
      "      injured_pedestrian  killed_uncategorized  injured_uncategorized  \\\n",
      "0                      0                     0                      0   \n",
      "1                      0                     0                      0   \n",
      "2                      0                     0                      0   \n",
      "3                      0                     0                      0   \n",
      "4                      0                     0                      0   \n",
      "...                  ...                   ...                    ...   \n",
      "22067                  0                     0                      0   \n",
      "22068                  0                     0                      0   \n",
      "22069                  0                     0                      0   \n",
      "22070                  0                     0                      0   \n",
      "22071                  0                     0                      0   \n",
      "\n",
      "       killed_total  injured_total      DATETIME_PST  SEVERITY          Y  \\\n",
      "0                 0              0  2014-06-30 13:40  Property  14.657714   \n",
      "1                 0              0   2014-03-17 9:00  Property  14.657714   \n",
      "2                 0              1  2013-11-26 10:00    Injury  14.657714   \n",
      "3                 0              0  2013-10-26 21:00  Property  14.657714   \n",
      "4                 0              1   2013-06-27 7:30    Injury  14.657706   \n",
      "...             ...            ...               ...       ...        ...   \n",
      "22067             0              0   2016-10-29 8:47  Property  14.644445   \n",
      "22068             0              0  2016-10-22 19:50  Property  14.644503   \n",
      "22069             0              0  2016-10-21 10:00  Property  14.644524   \n",
      "22070             0              1   2016-10-25 7:17    Injury  14.644586   \n",
      "22071             0              1   2016-10-21 6:38    Injury  14.644701   \n",
      "\n",
      "                X       COLLISION_TYPE  \n",
      "0      121.019788  No Collision Stated  \n",
      "1      121.019788  No Collision Stated  \n",
      "2      121.019788  No Collision Stated  \n",
      "3      121.019788  No Collision Stated  \n",
      "4      121.019660  No Collision Stated  \n",
      "...           ...                  ...  \n",
      "22067  121.037136             Rear-End  \n",
      "22068  121.037418             Rear-End  \n",
      "22069  121.037112             Rear-End  \n",
      "22070  121.037042           Side Swipe  \n",
      "22071  121.037074           Side Swipe  \n",
      "\n",
      "[22072 rows x 26 columns]\n"
     ]
    }
   ],
   "source": [
    "file_path = '../data/raw/RTA_EDSA_2007-2016.csv'\n",
    "try:\n",
    "    df = pd.read_csv(file_path)\n",
    "    print(df)\n",
    "except FileNotFoundError:\n",
    "    print(f\"File not found: {file_path}\")\n",
    "    df = None"
   ]
  },
  {
   "cell_type": "code",
   "execution_count": 7,
   "id": "60cb1571",
   "metadata": {},
   "outputs": [
    {
     "name": "stdout",
     "output_type": "stream",
     "text": [
      "  LOCATION_TEXT  ROAD WEATHER LIGHT  \\\n",
      "0           NaN  EDSA     NaN   NaN   \n",
      "1           NaN  EDSA     NaN   NaN   \n",
      "2           NaN  EDSA     NaN   NaN   \n",
      "3           NaN  EDSA     NaN   NaN   \n",
      "4           NaN  EDSA     NaN   NaN   \n",
      "\n",
      "                                                DESC       REPORTING_AGENCY  \\\n",
      "0  No Accident Factor, No Collision Stated (based...  MMDA Road Safety Unit   \n",
      "1  No Accident Factor, No Collision Stated (based...  MMDA Road Safety Unit   \n",
      "2  No Accident Factor, No Collision Stated (based...  MMDA Road Safety Unit   \n",
      "3  No Accident Factor, No Collision Stated (based...  MMDA Road Safety Unit   \n",
      "4  No Accident Factor, No Collision Stated (based...  MMDA Road Safety Unit   \n",
      "\n",
      "    MAIN_CAUSE                    INCIDENTDETAILS_ID    DATE_UTC  TIME_UTC  \\\n",
      "0  Human error  2414f311-e805-40c6-b8b9-116b51c35be7  2014-06-30  05:40:00   \n",
      "1  Human error  c359744e-e0e7-4541-8db8-5f334c2b4fd7  2014-03-17  01:00:00   \n",
      "2  Human error  84e0c352-c029-4393-9252-7516c77f471f  2013-11-26  02:00:00   \n",
      "3  Human error  33462d75-3bf8-483f-8cf2-63adab3a6924  2013-10-26  13:00:00   \n",
      "4  Human error  2d2ef179-9c5c-4d5b-90de-8f12871a005c  2013-06-26  23:30:00   \n",
      "\n",
      "   ... injured_pedestrian  killed_uncategorized  injured_uncategorized  \\\n",
      "0  ...                  0                     0                      0   \n",
      "1  ...                  0                     0                      0   \n",
      "2  ...                  0                     0                      0   \n",
      "3  ...                  0                     0                      0   \n",
      "4  ...                  0                     0                      0   \n",
      "\n",
      "   killed_total  injured_total      DATETIME_PST  SEVERITY          Y  \\\n",
      "0             0              0  2014-06-30 13:40  Property  14.657714   \n",
      "1             0              0   2014-03-17 9:00  Property  14.657714   \n",
      "2             0              1  2013-11-26 10:00    Injury  14.657714   \n",
      "3             0              0  2013-10-26 21:00  Property  14.657714   \n",
      "4             0              1   2013-06-27 7:30    Injury  14.657706   \n",
      "\n",
      "            X       COLLISION_TYPE  \n",
      "0  121.019788  No Collision Stated  \n",
      "1  121.019788  No Collision Stated  \n",
      "2  121.019788  No Collision Stated  \n",
      "3  121.019788  No Collision Stated  \n",
      "4  121.019660  No Collision Stated  \n",
      "\n",
      "[5 rows x 26 columns]\n"
     ]
    }
   ],
   "source": [
    "if df is not None:\n",
    "    print(df.head())"
   ]
  },
  {
   "cell_type": "markdown",
   "id": "9c03f7be",
   "metadata": {},
   "source": [
    "## 2. Basic Data Inspection"
   ]
  },
  {
   "cell_type": "markdown",
   "id": "25757609",
   "metadata": {},
   "source": [
    "### 2.1 Display Column Names and Data Types"
   ]
  },
  {
   "cell_type": "code",
   "execution_count": 9,
   "id": "d93ffb20",
   "metadata": {},
   "outputs": [
    {
     "name": "stdout",
     "output_type": "stream",
     "text": [
      "<class 'pandas.core.frame.DataFrame'>\n",
      "RangeIndex: 22072 entries, 0 to 22071\n",
      "Data columns (total 26 columns):\n",
      " #   Column                 Non-Null Count  Dtype  \n",
      "---  ------                 --------------  -----  \n",
      " 0   LOCATION_TEXT          304 non-null    object \n",
      " 1   ROAD                   22072 non-null  object \n",
      " 2   WEATHER                304 non-null    object \n",
      " 3   LIGHT                  304 non-null    object \n",
      " 4   DESC                   22072 non-null  object \n",
      " 5   REPORTING_AGENCY       22072 non-null  object \n",
      " 6   MAIN_CAUSE             304 non-null    object \n",
      " 7   INCIDENTDETAILS_ID     22072 non-null  object \n",
      " 8   DATE_UTC               22072 non-null  object \n",
      " 9   TIME_UTC               22072 non-null  object \n",
      " 10  ADDRESS                21768 non-null  object \n",
      " 11  killed_driver          22072 non-null  int64  \n",
      " 12  killed_passenger       22072 non-null  int64  \n",
      " 13  killed_pedestrian      22072 non-null  int64  \n",
      " 14  injured_driver         22072 non-null  int64  \n",
      " 15  injured_passenger      22072 non-null  int64  \n",
      " 16  injured_pedestrian     22072 non-null  int64  \n",
      " 17  killed_uncategorized   22072 non-null  int64  \n",
      " 18  injured_uncategorized  22072 non-null  int64  \n",
      " 19  killed_total           22072 non-null  int64  \n",
      " 20  injured_total          22072 non-null  int64  \n",
      " 21  DATETIME_PST           22072 non-null  object \n",
      " 22  SEVERITY               22072 non-null  object \n",
      " 23  Y                      22072 non-null  float64\n",
      " 24  X                      22072 non-null  float64\n",
      " 25  COLLISION_TYPE         22072 non-null  object \n",
      "dtypes: float64(2), int64(10), object(14)\n",
      "memory usage: 4.4+ MB\n",
      "None\n"
     ]
    }
   ],
   "source": [
    "if df is not None:\n",
    "    print(df.info())"
   ]
  },
  {
   "cell_type": "markdown",
   "id": "6cad328f",
   "metadata": {},
   "source": [
    "### 2.2 Check for Missing Values in `SEVERITY`, `killed_total`, and `injured_total`"
   ]
  },
  {
   "cell_type": "code",
   "execution_count": null,
   "id": "92db6859",
   "metadata": {},
   "outputs": [
    {
     "name": "stdout",
     "output_type": "stream",
     "text": [
      "SEVERITY         0\n",
      "killed_total     0\n",
      "injured_total    0\n",
      "dtype: int64\n",
      "SEVERITY         0.0\n",
      "killed_total     0.0\n",
      "injured_total    0.0\n",
      "dtype: float64\n"
     ]
    }
   ],
   "source": [
    "if df is not None:\n",
    "    key_cols_for_missing = ['SEVERITY', 'killed_total', 'injured_total']\n",
    "    existing_key_cols = [col for col in key_cols_for_missing if col in df.columns]\n",
    "    if not existing_key_cols:\n",
    "        print(\"No key columns found in the DataFrame.\")\n",
    "    else:\n",
    "        missing_values = df[existing_key_cols].isnull().sum()\n",
    "        print(missing_values)\n",
    "        \n",
    "        missing_percentage = (df[existing_key_cols].isnull().sum() / len(df)) * 100\n",
    "        print(missing_percentage)"
   ]
  },
  {
   "cell_type": "markdown",
   "id": "aeefcb92",
   "metadata": {},
   "source": [
    "### 2.3 Get a First Look at Unique Values for `SEVERITY`"
   ]
  },
  {
   "cell_type": "code",
   "execution_count": 12,
   "id": "f4a83f86",
   "metadata": {},
   "outputs": [
    {
     "name": "stdout",
     "output_type": "stream",
     "text": [
      "['Property' 'Injury' 'Fatal']\n",
      "SEVERITY\n",
      "Property    20555\n",
      "Injury       1495\n",
      "Fatal          22\n",
      "Name: count, dtype: int64\n"
     ]
    }
   ],
   "source": [
    "if df is not None and 'SEVERITY' in df.columns:\n",
    "    severity_unique_values = df['SEVERITY'].unique()\n",
    "    print(severity_unique_values)\n",
    "    \n",
    "    severity_value_counts = df['SEVERITY'].value_counts(dropna=False)\n",
    "    print(severity_value_counts)\n",
    "elif df is not None:\n",
    "    print(\"Column 'SEVERITY' not found in DataFrame.\")"
   ]
  },
  {
   "cell_type": "markdown",
   "id": "b2781e09",
   "metadata": {},
   "source": [
    "### 2.4 Get Basic Descriptive Statistics for `killed_total` and `injured_total`"
   ]
  },
  {
   "cell_type": "code",
   "execution_count": null,
   "id": "3181ee51",
   "metadata": {},
   "outputs": [],
   "source": [
    "if df is not None:\n",
    "    casualty_cols = ['killed_total', 'injured_total']\n",
    "    existing_casualty_cols = [col for col in casualty_cols if col in df.columns]\n",
    "    if not existing_casualty_cols:\n",
    "        print(existing_casualty_cols)\n",
    "    else:\n",
    "        print(df[existing_casualty_cols].describe())"
   ]
  }
 ],
 "metadata": {
  "kernelspec": {
   "display_name": "traffic-severity",
   "language": "python",
   "name": "trafficseverity"
  },
  "language_info": {
   "codemirror_mode": {
    "name": "ipython",
    "version": 3
   },
   "file_extension": ".py",
   "mimetype": "text/x-python",
   "name": "python",
   "nbconvert_exporter": "python",
   "pygments_lexer": "ipython3",
   "version": "3.12.9"
  }
 },
 "nbformat": 4,
 "nbformat_minor": 5
}
