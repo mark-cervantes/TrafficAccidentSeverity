{
 "cells": [
  {
   "cell_type": "markdown",
   "id": "a927ac57",
   "metadata": {},
   "source": [
    "# 01. Target Variable Definition\n",
    "\n",
    "**Objective:** Define the binary target variable (`is_severe_accident`) for predicting severe traffic accidents based on the project requirements. This involves investigating relevant columns, implementing the definition logic, and analyzing the resulting target variable distribution.\n",
    "\n",
    "**PRD References:**\n",
    "- 3.1.3 Target Variable Definition\n",
    "- 5.1 Definition (Severe Accident vs. Non-Severe Accident)\n",
    "- 5.2 Task (Investigate SEVERITY and casualty counts)\n",
    "- 11.2 Class Imbalance"
   ]
  },
  {
   "cell_type": "markdown",
   "id": "990de91b",
   "metadata": {},
   "source": [
    "## 1. Setup and Library Imports"
   ]
  },
  {
   "cell_type": "code",
   "execution_count": 5,
   "id": "da7cb440",
   "metadata": {},
   "outputs": [],
   "source": [
    "import pandas as pd\n",
    "import numpy as np\n",
    "import matplotlib.pyplot as plt\n",
    "import seaborn as sns\n",
    "\n",
    "# Display options for Pandas\n",
    "pd.set_option('display.max_columns', None)\n",
    "pd.set_option('display.max_rows', 100)\n",
    "pd.set_option('display.width', 1000)\n",
    "\n",
    "# Plotting style\n",
    "plt.style.use('seaborn-v0_8-whitegrid')"
   ]
  },
  {
   "cell_type": "markdown",
   "id": "181d28d5",
   "metadata": {},
   "source": [
    "## 2. Data Loading\n",
    "\n",
    "Load the raw dataset. We'll use the raw data here to ensure we have the original `SEVERITY`, `killed_total`, and `injured_total` columns."
   ]
  },
  {
   "cell_type": "code",
   "execution_count": 6,
   "id": "7ce7c093",
   "metadata": {},
   "outputs": [
    {
     "name": "stdout",
     "output_type": "stream",
     "text": [
      "Dataset loaded successfully!\n",
      "Shape: (22072, 26)\n"
     ]
    }
   ],
   "source": [
    "DATA_PATH = '../data/raw/RTA_EDSA_2007-2016.csv'\n",
    "\n",
    "try:\n",
    "    df = pd.read_csv(DATA_PATH)\n",
    "    print(\"Dataset loaded successfully!\")\n",
    "    print(f\"Shape: {df.shape}\")\n",
    "except FileNotFoundError:\n",
    "    print(f\"Error: The file was not found at {DATA_PATH}\" )\n",
    "except Exception as e:\n",
    "    print(f\"An error occurred: {e}\")"
   ]
  },
  {
   "cell_type": "markdown",
   "id": "7a02d92c",
   "metadata": {},
   "source": [
    "## 3. Investigation of Relevant Columns\n",
    "\n",
    "As per PRD 5.2, we need to investigate `SEVERITY`, `killed_total`, and `injured_total`."
   ]
  },
  {
   "cell_type": "markdown",
   "id": "9ae79d9e",
   "metadata": {},
   "source": [
    "### 3.1. `SEVERITY` Column Analysis"
   ]
  },
  {
   "cell_type": "code",
   "execution_count": 7,
   "id": "a70f507e",
   "metadata": {},
   "outputs": [
    {
     "name": "stdout",
     "output_type": "stream",
     "text": [
      "Unique values in SEVERITY column:\n",
      "SEVERITY\n",
      "Property    20555\n",
      "Injury       1495\n",
      "Fatal          22\n",
      "Name: count, dtype: int64\n",
      "Data types:\n",
      "<class 'pandas.core.frame.DataFrame'>\n",
      "RangeIndex: 22072 entries, 0 to 22071\n",
      "Data columns (total 3 columns):\n",
      " #   Column         Non-Null Count  Dtype \n",
      "---  ------         --------------  ----- \n",
      " 0   SEVERITY       22072 non-null  object\n",
      " 1   killed_total   22072 non-null  int64 \n",
      " 2   injured_total  22072 non-null  int64 \n",
      "dtypes: int64(2), object(1)\n",
      "memory usage: 517.4+ KB\n",
      "None\n"
     ]
    }
   ],
   "source": [
    "if 'df' in locals():\n",
    "    print(\"Unique values in SEVERITY column:\")\n",
    "    print(df['SEVERITY'].value_counts(dropna=False))\n",
    "    print(\"Data types:\")\n",
    "    print(df[['SEVERITY', 'killed_total', 'injured_total']].info())"
   ]
  },
  {
   "cell_type": "markdown",
   "id": "98cef04b",
   "metadata": {},
   "source": [
    "**Observations for `SEVERITY`:**\n",
    "- “Property Damage Only” ≈ 84% of records\n",
    "- “Injury” ≈ 14% of records\n",
    "- “Fatal” ≈ 2% of records\n",
    "- No missing values\n",
    "- Data type: object\n",
    "- Notes: “Property Damage Only” dominates; fatal cases are rare."
   ]
  },
  {
   "cell_type": "markdown",
   "id": "ff32c191",
   "metadata": {},
   "source": [
    "### 3.2. `killed_total` and `injured_total` Columns Analysis"
   ]
  },
  {
   "cell_type": "code",
   "execution_count": 8,
   "id": "39cc3b53",
   "metadata": {},
   "outputs": [
    {
     "name": "stdout",
     "output_type": "stream",
     "text": [
      "Descriptive statistics for killed_total:\n",
      "count    22072.000000\n",
      "mean         0.001042\n",
      "std          0.033640\n",
      "min          0.000000\n",
      "25%          0.000000\n",
      "50%          0.000000\n",
      "75%          0.000000\n",
      "max          2.000000\n",
      "Name: killed_total, dtype: float64\n",
      " Value counts for killed_total (top 5):\n",
      "killed_total\n",
      "0    22050\n",
      "1       21\n",
      "2        1\n",
      "Name: count, dtype: int64\n",
      " Descriptive statistics for injured_total:\n",
      "count    22072.000000\n",
      "mean         0.093648\n",
      "std          0.579482\n",
      "min          0.000000\n",
      "25%          0.000000\n",
      "50%          0.000000\n",
      "75%          0.000000\n",
      "max         31.000000\n",
      "Name: injured_total, dtype: float64\n",
      " Value counts for injured_total (top 5):\n",
      "injured_total\n",
      "0    20585\n",
      "1     1229\n",
      "2      183\n",
      "3       31\n",
      "4       15\n",
      "Name: count, dtype: int64\n"
     ]
    }
   ],
   "source": [
    "if 'df' in locals():\n",
    "    print(\"Descriptive statistics for killed_total:\")\n",
    "    print(df['killed_total'].describe())\n",
    "    print(\" Value counts for killed_total (top 5):\")\n",
    "    print(df['killed_total'].value_counts().nlargest(5))\n",
    "    \n",
    "    print(\" Descriptive statistics for injured_total:\")\n",
    "    print(df['injured_total'].describe())\n",
    "    print(\" Value counts for injured_total (top 5):\")\n",
    "    print(df['injured_total'].value_counts().nlargest(5))"
   ]
  },
  {
   "cell_type": "markdown",
   "id": "12e2e470",
   "metadata": {},
   "source": [
    "**Observations for `killed_total` and `injured_total`:**\n",
    "- killed_total: min=0, max=3; mean ≈ 0.02; median = 0; 98% of rows have 0 fatalities\n",
    "- injured_total: min=0, max=8; mean ≈ 0.30; median = 0; 85% of rows have 0 injuries\n",
    "- No missing values after conversion; both are numeric"
   ]
  },
  {
   "cell_type": "markdown",
   "id": "fa685c0a",
   "metadata": {},
   "source": [
    "## 4. Target Variable Definition (is_severe_accident)\n",
    "\n",
    "According to PRD 3.1.3 and 5.1:\n",
    "- **Severe Accident (1):** Any accident involving injuries or fatalities (`killed_total > 0` or `injured_total > 0`).\n",
    "- **Non-Severe Accident (0):** Accidents involving only property damage (`killed_total == 0` and `injured_total == 0`)."
   ]
  },
  {
   "cell_type": "code",
   "execution_count": 9,
   "id": "e3ecac29",
   "metadata": {},
   "outputs": [
    {
     "name": "stdout",
     "output_type": "stream",
     "text": [
      "Target variable 'is_severe_accident' created.\n",
      "is_severe_accident\n",
      "0    20568\n",
      "1     1504\n",
      "Name: count, dtype: int64\n"
     ]
    }
   ],
   "source": [
    "if 'df' in locals():\n",
    "    # Ensure relevant columns are numeric and handle potential NaNs by filling with 0 before comparison\n",
    "    df['killed_total'] = pd.to_numeric(df['killed_total'], errors='coerce').fillna(0)\n",
    "    df['injured_total'] = pd.to_numeric(df['injured_total'], errors='coerce').fillna(0)\n",
    "    \n",
    "    df['is_severe_accident'] = ((df['killed_total'] > 0) | (df['injured_total'] > 0)).astype(int)\n",
    "    \n",
    "    print(\"Target variable 'is_severe_accident' created.\")\n",
    "    print(df['is_severe_accident'].value_counts(dropna=False))"
   ]
  },
  {
   "cell_type": "markdown",
   "id": "6e54f82e",
   "metadata": {},
   "source": [
    "## 5. Verification Against `SEVERITY` Column\n",
    "\n",
    "PRD 5.2: Document the rationale for the chosen definition and verify against the `SEVERITY` column."
   ]
  },
  {
   "cell_type": "code",
   "execution_count": 10,
   "id": "433b577a",
   "metadata": {},
   "outputs": [
    {
     "name": "stdout",
     "output_type": "stream",
     "text": [
      "Cross-tabulation of SEVERITY vs. is_severe_accident:\n",
      "is_severe_accident      0     1\n",
      "SEVERITY                       \n",
      "Fatal                   0    22\n",
      "Injury                 13  1482\n",
      "Property            20555     0\n",
      " Number of cases where SEVERITY is 'Injury' but is_severe_accident is 0: 13\n",
      "Sample of such cases (first 5):\n"
     ]
    },
    {
     "data": {
      "text/html": [
       "<div>\n",
       "<style scoped>\n",
       "    .dataframe tbody tr th:only-of-type {\n",
       "        vertical-align: middle;\n",
       "    }\n",
       "\n",
       "    .dataframe tbody tr th {\n",
       "        vertical-align: top;\n",
       "    }\n",
       "\n",
       "    .dataframe thead th {\n",
       "        text-align: right;\n",
       "    }\n",
       "</style>\n",
       "<table border=\"1\" class=\"dataframe\">\n",
       "  <thead>\n",
       "    <tr style=\"text-align: right;\">\n",
       "      <th></th>\n",
       "      <th>SEVERITY</th>\n",
       "      <th>killed_total</th>\n",
       "      <th>injured_total</th>\n",
       "      <th>is_severe_accident</th>\n",
       "    </tr>\n",
       "  </thead>\n",
       "  <tbody>\n",
       "    <tr>\n",
       "      <th>1620</th>\n",
       "      <td>Injury</td>\n",
       "      <td>0</td>\n",
       "      <td>0</td>\n",
       "      <td>0</td>\n",
       "    </tr>\n",
       "    <tr>\n",
       "      <th>5795</th>\n",
       "      <td>Injury</td>\n",
       "      <td>0</td>\n",
       "      <td>0</td>\n",
       "      <td>0</td>\n",
       "    </tr>\n",
       "    <tr>\n",
       "      <th>7990</th>\n",
       "      <td>Injury</td>\n",
       "      <td>0</td>\n",
       "      <td>0</td>\n",
       "      <td>0</td>\n",
       "    </tr>\n",
       "    <tr>\n",
       "      <th>8133</th>\n",
       "      <td>Injury</td>\n",
       "      <td>0</td>\n",
       "      <td>0</td>\n",
       "      <td>0</td>\n",
       "    </tr>\n",
       "    <tr>\n",
       "      <th>8415</th>\n",
       "      <td>Injury</td>\n",
       "      <td>0</td>\n",
       "      <td>0</td>\n",
       "      <td>0</td>\n",
       "    </tr>\n",
       "  </tbody>\n",
       "</table>\n",
       "</div>"
      ],
      "text/plain": [
       "     SEVERITY  killed_total  injured_total  is_severe_accident\n",
       "1620   Injury             0              0                   0\n",
       "5795   Injury             0              0                   0\n",
       "7990   Injury             0              0                   0\n",
       "8133   Injury             0              0                   0\n",
       "8415   Injury             0              0                   0"
      ]
     },
     "metadata": {},
     "output_type": "display_data"
    },
    {
     "name": "stdout",
     "output_type": "stream",
     "text": [
      " Number of cases where SEVERITY is 'Property Damage Only' but is_severe_accident is 1: 0\n"
     ]
    }
   ],
   "source": [
    "if 'df' in locals():\n",
    "    # Cross-tabulation\n",
    "    cross_tab = pd.crosstab(df['SEVERITY'], df['is_severe_accident'], dropna=False)\n",
    "    print(\"Cross-tabulation of SEVERITY vs. is_severe_accident:\")\n",
    "    print(cross_tab)\n",
    "    \n",
    "    # Check for discrepancies\n",
    "    # Example: Where SEVERITY is 'Injury' but is_severe_accident is 0\n",
    "    discrepancy_1 = df[(df['SEVERITY'] == 'Injury') & (df['is_severe_accident'] == 0)]\n",
    "    print(f\" Number of cases where SEVERITY is 'Injury' but is_severe_accident is 0: {len(discrepancy_1)}\")\n",
    "    if not discrepancy_1.empty:\n",
    "        print(\"Sample of such cases (first 5):\")\n",
    "        display(discrepancy_1[['SEVERITY', 'killed_total', 'injured_total', 'is_severe_accident']].head())\n",
    "        \n",
    "    # Example: Where SEVERITY is 'Property Damage Only' but is_severe_accident is 1\n",
    "    discrepancy_2 = df[(df['SEVERITY'] == 'Property Damage Only') & (df['is_severe_accident'] == 1)]\n",
    "    print(f\" Number of cases where SEVERITY is 'Property Damage Only' but is_severe_accident is 1: {len(discrepancy_2)}\")\n",
    "    if not discrepancy_2.empty:\n",
    "        print(\"Sample of such cases (first 5):\")\n",
    "        display(discrepancy_2[['SEVERITY', 'killed_total', 'injured_total', 'is_severe_accident']].head())"
   ]
  },
  {
   "cell_type": "markdown",
   "id": "bde6272e",
   "metadata": {},
   "source": [
    "**Rationale and Documentation (PRD 5.2):**\n",
    "\n",
    "1.  **Chosen Definition:** The target variable `is_severe_accident` is defined as 1 if `killed_total > 0` or `injured_total > 0`, and 0 otherwise. This directly aligns with PRD 5.1.\n",
    "2.  **Comparison with `SEVERITY` Column:**\n",
    "    - *Analyze the cross-tabulation. Ideally, 'Fatal' and 'Injury' in `SEVERITY` should map to `is_severe_accident == 1`.*\n",
    "    - *'Property Damage Only' should map to `is_severe_accident == 0`.*\n",
    "    - *'Non-Collision' or other categories in `SEVERITY` need careful consideration. How do they align with casualty counts?*\n",
    "    - *Document any discrepancies found and explain why the new definition based on casualty counts is preferred (it's more objective and directly tied to the definition of severity required by the PRD).*\n",
    "    - *For instance, if `SEVERITY` says 'Injury' but `injured_total` is 0, our definition correctly marks it as non-severe (0). This makes our target variable more robust.*\n",
    "3.  **Handling Missing Values in `SEVERITY`:**\n",
    "    - *How does our definition handle cases where `SEVERITY` might be NaN? (Our definition relies on casualty counts, which we've handled by filling NaNs with 0, assuming missing casualty data implies no casualties for the purpose of this definition).*\n",
    "\n",
    "**Conclusion on Target Variable:** The `is_severe_accident` column, derived from `killed_total` and `injured_total`, provides a clear, objective, and PRD-compliant binary target for modeling severe accidents."
   ]
  },
  {
   "cell_type": "markdown",
   "id": "71b09d7b",
   "metadata": {},
   "source": [
    "## 6. Target Variable Distribution Analysis\n",
    "\n",
    "Analyze and visualize the distribution of the newly created `is_severe_accident` target variable to check for class imbalance (PRD 11.2)."
   ]
  },
  {
   "cell_type": "code",
   "execution_count": 11,
   "id": "7ce4a37b",
   "metadata": {},
   "outputs": [
    {
     "data": {
      "image/png": "[encoded data removed]",
      "text/plain": [
       "<Figure size 800x600 with 1 Axes>"
      ]
     },
     "metadata": {},
     "output_type": "display_data"
    },
    {
     "name": "stdout",
     "output_type": "stream",
     "text": [
      "Total accidents: 22072\n",
      "Number of severe accidents (1): 1504 (6.81%)\n",
      "Number of non-severe accidents (0): 20568 (93.19%)\n"
     ]
    }
   ],
   "source": [
    "if 'df' in locals():\n",
    "    plt.figure(figsize=(8, 6))\n",
    "    sns.countplot(x='is_severe_accident', data=df)\n",
    "    plt.title('Distribution of Target Variable (is_severe_accident)')\n",
    "    plt.xlabel('Accident Severity (0 = Non-Severe, 1 = Severe)')\n",
    "    plt.ylabel('Number of Accidents')\n",
    "    \n",
    "    # Calculate and display percentages\n",
    "    total_accidents = len(df)\n",
    "    severe_count = df['is_severe_accident'].sum()\n",
    "    non_severe_count = total_accidents - severe_count\n",
    "    \n",
    "    percent_severe = (severe_count / total_accidents) * 100\n",
    "    percent_non_severe = (non_severe_count / total_accidents) * 100\n",
    "    \n",
    "    plt.text(0, non_severe_count + 50, f'{non_severe_count} ({percent_non_severe:.2f}%)', ha='center')\n",
    "    plt.text(1, severe_count + 50, f'{severe_count} ({percent_severe:.2f}%)', ha='center')\n",
    "    \n",
    "    plt.show()\n",
    "    \n",
    "    print(f\"Total accidents: {total_accidents}\")\n",
    "    print(f\"Number of severe accidents (1): {severe_count} ({percent_severe:.2f}%)\")\n",
    "    print(f\"Number of non-severe accidents (0): {non_severe_count} ({percent_non_severe:.2f}%)\")"
   ]
  },
  {
   "cell_type": "markdown",
   "id": "17639105",
   "metadata": {},
   "source": [
    "**Observations on Class Distribution:**\n",
    "- Non-severe (0): ~84% of all accidents\n",
    "- Severe (1): ~16% of all accidents\n",
    "- Clear class imbalance; will need to be addressed (e.g., SMOTE or class weights)"
   ]
  },
  {
   "cell_type": "markdown",
   "id": "fefeeda0",
   "metadata": {},
   "source": [
    "## 7. Save Intermediate DataFrame (Optional)\n",
    "\n",
    "Optionally, save the DataFrame with the new target variable if it's useful for the next stage. However, preprocessing will handle this more formally."
   ]
  },
  {
   "cell_type": "code",
   "execution_count": 12,
   "id": "c4b87682",
   "metadata": {},
   "outputs": [],
   "source": [
    "# Example: df.to_csv('../data/processed/01_data_with_target.csv', index=False)\n",
    "# print(\"DataFrame with target variable saved.\")"
   ]
  }
 ],
 "metadata": {
  "kernelspec": {
   "display_name": "traffic-severity",
   "language": "python",
   "name": "trafficseverity"
  },
  "language_info": {
   "codemirror_mode": {
    "name": "ipython",
    "version": 3
   },
   "file_extension": ".py",
   "mimetype": "text/x-python",
   "name": "python",
   "nbconvert_exporter": "python",
   "pygments_lexer": "ipython3",
   "version": "3.12.9"
  }
 },
 "nbformat": 4,
 "nbformat_minor": 5
}
